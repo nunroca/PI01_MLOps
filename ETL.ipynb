{
 "cells": [
  {
   "attachments": {},
   "cell_type": "markdown",
   "metadata": {},
   "source": [
    "##EDT"
   ]
  },
  {
   "cell_type": "code",
   "execution_count": 3,
   "metadata": {},
   "outputs": [],
   "source": [
    "import pandas as pd\n",
    "import numpy as np"
   ]
  },
  {
   "attachments": {},
   "cell_type": "markdown",
   "metadata": {},
   "source": [
    "1. Cargamos los Datos"
   ]
  },
  {
   "cell_type": "code",
   "execution_count": 3,
   "metadata": {},
   "outputs": [],
   "source": [
    "df_amazon = pd.read_csv(\"./MLOpsReviews/amazon_prime_titles.csv\",sep=\",\")\n",
    "df_amazon[\"platform\"] = \"amazon\"\n",
    "df_disney = pd.read_csv(\"./MLOpsReviews/disney_plus_titles.csv\",sep=\",\")\n",
    "df_disney[\"platform\"] = \"disney\"\n",
    "df_hulu = pd.read_csv(\"./MLOpsReviews/hulu_titles.csv\",sep=\",\")\n",
    "df_hulu[\"platform\"] = \"hulu\"\n",
    "df_netflix = pd.read_csv(\"./MLOpsReviews/netflix_titles.csv\",sep=\",\")\n",
    "df_netflix[\"platform\"] = \"netflix\"\n",
    "df_titles = pd.concat([df_amazon,df_disney,df_hulu,df_netflix])"
   ]
  },
  {
   "cell_type": "code",
   "execution_count": 4,
   "metadata": {},
   "outputs": [],
   "source": [
    "df_rat1 = pd.read_csv(\"./MLOpsReviews/ratings/1.csv\",sep=\",\")\n",
    "df_rat2 = pd.read_csv(\"./MLOpsReviews/ratings/2.csv\",sep=\",\")\n",
    "df_rat3 = pd.read_csv(\"./MLOpsReviews/ratings/3.csv\",sep=\",\")\n",
    "df_rat4 = pd.read_csv(\"./MLOpsReviews/ratings/4.csv\",sep=\",\")\n",
    "df_rat5 = pd.read_csv(\"./MLOpsReviews/ratings/5.csv\",sep=\",\")\n",
    "df_rat6 = pd.read_csv(\"./MLOpsReviews/ratings/6.csv\",sep=\",\")\n",
    "df_rat7 = pd.read_csv(\"./MLOpsReviews/ratings/7.csv\",sep=\",\")\n",
    "df_rat8 = pd.read_csv(\"./MLOpsReviews/ratings/8.csv\",sep=\",\")\n",
    "df_rating = pd.concat([df_rat1,df_rat2,df_rat3,df_rat4,df_rat5,df_rat6,df_rat7,df_rat8])\n"
   ]
  },
  {
   "attachments": {},
   "cell_type": "markdown",
   "metadata": {},
   "source": [
    "2. Generamos campo id"
   ]
  },
  {
   "cell_type": "code",
   "execution_count": 5,
   "metadata": {},
   "outputs": [],
   "source": [
    "df_titles[\"id\"] = df_titles[\"platform\"].str.slice(0,1) + df_titles[\"show_id\"]"
   ]
  },
  {
   "attachments": {},
   "cell_type": "markdown",
   "metadata": {},
   "source": [
    "3. Reemplazamos campos nulos de Rating"
   ]
  },
  {
   "cell_type": "code",
   "execution_count": 6,
   "metadata": {},
   "outputs": [],
   "source": [
    "df_titles[\"rating\"] = df_titles[\"rating\"].replace(np.nan,'G')"
   ]
  },
  {
   "cell_type": "markdown",
   "metadata": {},
   "source": [
    "4. Colocando formato a las fechas"
   ]
  },
  {
   "cell_type": "code",
   "execution_count": 7,
   "metadata": {},
   "outputs": [],
   "source": [
    "df_titles[\"date_added\"] = pd.to_datetime(df_titles[\"date_added\"].str.strip()).dt.strftime('%Y-%m-%d')\n"
   ]
  },
  {
   "attachments": {},
   "cell_type": "markdown",
   "metadata": {},
   "source": [
    "5. Ponemos en minusculas los textos"
   ]
  },
  {
   "cell_type": "code",
   "execution_count": 8,
   "metadata": {},
   "outputs": [],
   "source": [
    "df_titles['show_id'] = df_titles['show_id'].str.lower()\n",
    "df_titles['type'] = df_titles['type'].str.lower()\n",
    "df_titles['title'] = df_titles['title'].str.lower()\n",
    "df_titles['director'] = df_titles['director'].str.lower()\n",
    "df_titles['cast'] = df_titles['cast'].str.lower()\n",
    "df_titles['country'] = df_titles['country'].str.lower()\n",
    "df_titles['rating'] = df_titles['rating'].str.lower()\n",
    "df_titles['duration'] = df_titles['duration'].str.lower()\n",
    "df_titles['listed_in'] = df_titles['listed_in'].str.lower()\n",
    "df_titles['description'] = df_titles['description'].str.lower()\n",
    "df_titles['platform'] = df_titles['platform'].str.lower()\n",
    "df_titles['id'] = df_titles['id'].str.lower()"
   ]
  },
  {
   "attachments": {},
   "cell_type": "markdown",
   "metadata": {},
   "source": [
    "6. partimos en dos campos el campo \"duration\""
   ]
  },
  {
   "cell_type": "code",
   "execution_count": 9,
   "metadata": {},
   "outputs": [],
   "source": [
    "df_titles[['duration_int', 'duration_type']] = df_titles['duration'].str.extract('(\\d+)\\s*(\\w+)')\n",
    "df_titles['duration_type'] = df_titles[\"duration_type\"].str.replace(\"seasons\", \"season\")\n",
    "df_titles['duration_int'].fillna(value=0, inplace=True)\n",
    "df_titles['duration_int'] = df_titles['duration_int'].astype('int64')"
   ]
  },
  {
   "attachments": {},
   "cell_type": "markdown",
   "metadata": {},
   "source": [
    "7. Unimos las dos datas, por la id de las peliculas, promediando los rating"
   ]
  },
  {
   "cell_type": "code",
   "execution_count": 10,
   "metadata": {},
   "outputs": [],
   "source": [
    "\n",
    "df_media_rating =df_rating.groupby('movieId').agg('mean') \n",
    "df_media_rating=df_media_rating.drop(columns=[\"userId\",\"timestamp\"])\n",
    "df_titles = pd.merge(left=df_titles, right=df_media_rating, how='left', left_on='id', right_on='movieId')"
   ]
  },
  {
   "attachments": {},
   "cell_type": "markdown",
   "metadata": {},
   "source": [
    "7. Exportamos"
   ]
  },
  {
   "cell_type": "code",
   "execution_count": 48,
   "metadata": {},
   "outputs": [],
   "source": [
    "df_titles.to_csv('DataLab01.csv')"
   ]
  }
 ],
 "metadata": {
  "kernelspec": {
   "display_name": "Python 3",
   "language": "python",
   "name": "python3"
  },
  "language_info": {
   "codemirror_mode": {
    "name": "ipython",
    "version": 3
   },
   "file_extension": ".py",
   "mimetype": "text/x-python",
   "name": "python",
   "nbconvert_exporter": "python",
   "pygments_lexer": "ipython3",
   "version": "3.10.11"
  },
  "orig_nbformat": 4
 },
 "nbformat": 4,
 "nbformat_minor": 2
}
